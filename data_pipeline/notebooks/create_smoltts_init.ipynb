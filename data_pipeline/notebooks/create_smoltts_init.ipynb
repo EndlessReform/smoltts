{
 "cells": [
  {
   "cell_type": "markdown",
   "metadata": {},
   "source": [
    "# Create LM initialization for DualAR transformer\n",
    "\n",
    "As of 2024-12-30 we're using Huggingface [SmolLM2-135M](https://huggingface.co/HuggingFaceTB/SmolLM2-135M-Instruct) for pretrained LM initialization. However, it needs some minor formatting changes to work with the Fish Speech / fish_speech.rs format."
   ]
  },
  {
   "cell_type": "code",
   "execution_count": null,
   "metadata": {},
   "outputs": [],
   "source": [
    "import os\n",
    "from transformers import AutoModelForCausalLM, AutoTokenizer\n",
    "\n",
    "MODEL = \"HuggingFaceTB/SmolLM2-135M-Instruct\"\n",
    "checkpoint_dir = \"../checkpoints\"\n",
    "os.makedirs(checkpoint_dir, exist_ok=True)\n",
    "checkpoint_pretrained_dir = f\"../checkpoints/{MODEL.split('/')[-1]}\"\n",
    "os.makedirs(checkpoint_pretrained_dir, exist_ok=True)\n",
    "\n",
    "# Step (b): Download the HuggingFace model and save to ../checkpoints\n",
    "model_name = \"HuggingFaceTB/SmolLM2-135M-Instruct\"\n",
    "\n",
    "print(\"Downloading model...\")\n",
    "# Load the model and tokenizer\n",
    "tokenizer = AutoTokenizer.from_pretrained(model_name)\n",
    "model = AutoModelForCausalLM.from_pretrained(model_name)"
   ]
  },
  {
   "cell_type": "code",
   "execution_count": null,
   "metadata": {},
   "outputs": [],
   "source": [
    "print(f\"Saving model to {checkpoint_dir}...\")\n",
    "model.save_pretrained(checkpoint_pretrained_dir)\n",
    "tokenizer.save_pretrained(checkpoint_pretrained_dir)\n",
    "\n",
    "print(\"Model downloaded and saved successfully!\")"
   ]
  },
  {
   "cell_type": "code",
   "execution_count": null,
   "metadata": {},
   "outputs": [],
   "source": [
    "from safetensors.torch import load_file\n",
    "\n",
    "tensors = load_file(\"../checkpoints/SmolLM2-135M-Instruct/model.safetensors\")\n",
    "list(tensors.keys())"
   ]
  },
  {
   "cell_type": "markdown",
   "metadata": {},
   "source": [
    "Unfortunately the [Fish Speech](https://github.com/fishaudio/fish-speech) DualAR backbone has different weight keys despite being vanilla Llama 3 architecture, so we have to rename them:"
   ]
  },
  {
   "cell_type": "code",
   "execution_count": null,
   "metadata": {},
   "outputs": [],
   "source": [
    "renamed_tensors = {\n",
    "    key.replace('model.embed_tokens', 'model.embeddings')\n",
    "       .replace('self_attn', 'attention')\n",
    "       .replace('post_attention_layernorm', 'attention_norm')\n",
    "       .replace('input_layernorm', 'ffn_norm')\n",
    "       .replace('mlp', 'feed_forward')\n",
    "       .replace('k_proj', 'wk')\n",
    "       .replace('q_proj', 'wq')\n",
    "       .replace('v_proj', 'wv')\n",
    "       .replace('o_proj', 'wo')\n",
    "       .replace('gate_proj', 'w1')\n",
    "       .replace('down_proj', 'w2')\n",
    "       .replace('up_proj', 'w3')\n",
    "       .split('model.')[1]: tensor \n",
    "    for key, tensor in tensors.items()\n",
    "}\n",
    "list(renamed_tensors.keys())"
   ]
  },
  {
   "cell_type": "markdown",
   "metadata": {},
   "source": [
    "Following existing literature, we initialize the semantic codebook embedding embeddings from the mean of the existing token embeddings, to lower the initial loss from random init. Empirically this lowers base loss from 140 to 25 at the beginning of training, which though still far above `ln(52000)=10` for the base is good enough."
   ]
  },
  {
   "cell_type": "code",
   "execution_count": null,
   "metadata": {},
   "outputs": [],
   "source": [
    "import torch\n",
    "\n",
    "new_tokens = renamed_tensors['embeddings.weight'].mean(dim=0, keepdim=True).repeat(2048, 1)\n",
    "# nn.Embedding(2048, 576)\n",
    "extended_embeddings = torch.cat([\n",
    "    renamed_tensors['embeddings.weight'],\n",
    "    new_tokens\n",
    "], dim=0)\n",
    "\n",
    "renamed_tensors['embeddings.weight'] = extended_embeddings\n",
    "renamed_tensors['embeddings.weight'].shape"
   ]
  },
  {
   "cell_type": "code",
   "execution_count": null,
   "metadata": {},
   "outputs": [],
   "source": [
    "import torch\n",
    "import shutil\n",
    "from pathlib import Path\n",
    "\n",
    "source_dir = Path(checkpoint_pretrained_dir)\n",
    "dest_dir = Path(\"../checkpoints/smoltts_init\")\n",
    "\n",
    "os.makedirs(dest_dir, exist_ok=True)\n",
    "torch.save(renamed_tensors, dest_dir / \"model.pth\")\n",
    "\n",
    "\n",
    "# Ensure the destination directory exists\n",
    "dest_dir.mkdir(parents=True, exist_ok=True)\n",
    "\n",
    "# Copy all .json and .txt files\n",
    "for extension in (\"*.json\", \"*.txt\"):\n",
    "    for file in source_dir.glob(extension):\n",
    "        shutil.copy(file, dest_dir)"
   ]
  },
  {
   "cell_type": "markdown",
   "metadata": {},
   "source": [
    "Fish Speech uses a different config format than HF Transformers, so I'm going to define it by fiat here."
   ]
  },
  {
   "cell_type": "code",
   "execution_count": null,
   "metadata": {},
   "outputs": [],
   "source": [
    "import json\n",
    "\n",
    "with open(dest_dir / \"config.json\") as f:\n",
    "    hf_config = json.load(f)\n",
    "\n",
    "# Mimi codebook dimension\n",
    "CODEBOOK_SIZE = 2048\n",
    "\n",
    "config = {\n",
    "    \"attention_qkv_bias\": False,\n",
    "    \"codebook_size\": CODEBOOK_SIZE,\n",
    "    \"dim\": hf_config[\"hidden_size\"],\n",
    "    \"dropout\": 0.1,\n",
    "    \"fast_attention_qkv_bias\": False,\n",
    "    # TODO: Following Fish Speech, keeping fast layer dimensions the same for now. May revisit this later\n",
    "    \"fast_dim\": hf_config[\"hidden_size\"],\n",
    "    \"fast_head_dim\": hf_config[\"head_dim\"],\n",
    "    \"fast_intermediate_size\": hf_config[\"intermediate_size\"],\n",
    "    \"fast_n_head\": hf_config[\"num_attention_heads\"],\n",
    "    \"fast_n_local_heads\": hf_config[\"num_key_value_heads\"],\n",
    "    \"head_dim\": hf_config[\"head_dim\"],\n",
    "    \"initializer_range\": hf_config[\"initializer_range\"],\n",
    "    \"intermediate_size\": hf_config[\"intermediate_size\"],\n",
    "    \"is_reward_model\": False,\n",
    "    \"max_seq_len\": hf_config[\"max_position_embeddings\"],\n",
    "    \"model_type\": \"dual_ar\",\n",
    "    # TODO: Following Fish Speech for now\n",
    "    \"n_fast_layer\": 4,\n",
    "    \"n_head\": hf_config[\"num_attention_heads\"],\n",
    "    \"n_local_heads\": hf_config[\"num_key_value_heads\"],\n",
    "    \"norm_eps\": hf_config[\"rms_norm_eps\"],\n",
    "    # Mimi\n",
    "    \"num_codebooks\": 8,\n",
    "    \"rope_base\": hf_config[\"rope_theta\"],\n",
    "    \"scale_codebook_embeddings\": False,\n",
    "    \"share_codebook_embeddings\": True,\n",
    "    \"tie_word_embeddings\": hf_config[\"tie_word_embeddings\"],\n",
    "    \"use_gradient_checkpointing\": True,\n",
    "    # TODO: handle control tokens\n",
    "    \"vocab_size\": hf_config[\"vocab_size\"] + CODEBOOK_SIZE\n",
    "}\n",
    "\n",
    "config"
   ]
  },
  {
   "cell_type": "code",
   "execution_count": null,
   "metadata": {},
   "outputs": [],
   "source": [
    "output_path = dest_dir / \"config.json\"\n",
    "with output_path.open('w') as f:\n",
    "    json.dump(config, f, indent=2)"
   ]
  },
  {
   "cell_type": "markdown",
   "metadata": {},
   "source": [
    "Our model now must:\n",
    "- Randomly initialize the fast transformer\n",
    "- Merge attention qkv into a single tensor (to save on kernel launch overhead and improve hardware utilization) \n",
    "\n",
    "The DualARTransformer modeling code will do this, but we need to load the model once.\n",
    "\n",
    "TODO: find more principled initialization strategies!"
   ]
  },
  {
   "cell_type": "code",
   "execution_count": null,
   "metadata": {},
   "outputs": [],
   "source": [
    "from dual_ar.model.dual_ar import DualARTransformer\n",
    "\n",
    "model = DualARTransformer.from_pretrained(\n",
    "    path=\"../checkpoints/smoltts_init\",\n",
    "    load_weights=True\n",
    ")"
   ]
  },
  {
   "cell_type": "code",
   "execution_count": null,
   "metadata": {},
   "outputs": [],
   "source": [
    "state_dict = model.state_dict()\n",
    "torch.save(state_dict, dest_dir / \"model.pth\")"
   ]
  },
  {
   "cell_type": "markdown",
   "metadata": {},
   "source": [
    "We're now done with modeling code. Now we need to extend the tokenizer to handle semantic tokens.\n",
    "\n",
    "TODO: Add control / modality tokens, PAD / EPAD and do ablations!"
   ]
  },
  {
   "cell_type": "code",
   "execution_count": null,
   "metadata": {},
   "outputs": [],
   "source": [
    "def make_tokenizer():\n",
    "    tokenizer = AutoTokenizer.from_pretrained(MODEL, use_system_prompt=False)\n",
    "    semantic_tokens = [f\"<|semantic:{i}|>\" for i in range(0, CODEBOOK_SIZE)]\n",
    "    additional_special_tokens = [*semantic_tokens]\n",
    "    tokenizer.add_special_tokens({\n",
    "        \"additional_special_tokens\": additional_special_tokens\n",
    "    })\n",
    "    # Remove inane overly clever chat template\n",
    "    if MODEL == \"HuggingFaceTB/SmolLM2-135M-Instruct\":\n",
    "        tokenizer.chat_template = \"{% if not add_generation_prompt is defined %}{% set add_generation_prompt = false %}{% endif %}{% for message in messages %}{{'<|im_start|>' + message['role'] + '\\n' + message['content'] + '<|im_end|>' + '\\n'}}{% endfor %}{% if add_generation_prompt %}{{ '<|im_start|>assistant\\n' }}{% endif %}\"\n",
    "    \n",
    "    tokenizer.save_pretrained(dest_dir)\n",
    "\n",
    "make_tokenizer()"
   ]
  },
  {
   "cell_type": "markdown",
   "metadata": {},
   "source": [
    "All done!"
   ]
  },
  {
   "cell_type": "markdown",
   "metadata": {},
   "source": [
    "## Optional: test model works"
   ]
  },
  {
   "cell_type": "code",
   "execution_count": null,
   "metadata": {},
   "outputs": [],
   "source": [
    "import torch\n",
    "\n",
    "device = \"cuda\"\n",
    "model = model.to(device)\n",
    "model = model.to(torch.bfloat16)"
   ]
  },
  {
   "cell_type": "code",
   "execution_count": null,
   "metadata": {},
   "outputs": [],
   "source": [
    "import os\n",
    "os.environ[\"TOKENIZERS_PARALLELISM\"] = \"true\"\n",
    "model = torch.compile(model)"
   ]
  },
  {
   "cell_type": "code",
   "execution_count": null,
   "metadata": {},
   "outputs": [],
   "source": [
    "tensor = torch.zeros(1, 9, 1, dtype=torch.int32).to(\"cuda\")\n",
    "with torch.no_grad():\n",
    "    out = model.forward(tensor, None)\n",
    "    print(out.token_logits)"
   ]
  }
 ],
 "metadata": {
  "kernelspec": {
   "display_name": ".venv",
   "language": "python",
   "name": "python3"
  },
  "language_info": {
   "codemirror_mode": {
    "name": "ipython",
    "version": 3
   },
   "file_extension": ".py",
   "mimetype": "text/x-python",
   "name": "python",
   "nbconvert_exporter": "python",
   "pygments_lexer": "ipython3",
   "version": "3.9.6"
  }
 },
 "nbformat": 4,
 "nbformat_minor": 2
}
