{
 "cells": [
  {
   "cell_type": "code",
   "execution_count": null,
   "metadata": {},
   "outputs": [
    {
     "name": "stdout",
     "output_type": "stream",
     "text": [
      "IterableDataset({\n",
      "    features: ['json', 'mp3', '__key__', '__url__'],\n",
      "    num_shards: 1140\n",
      "})\n",
      "{'json': {'dnsmos': 3.2927, 'duration': 6.264, 'id': 'EN_B00000_S00000_W000000', 'language': 'en', 'speaker': 'EN_B00000_S00000', 'text': \" You can help my mother and you- No. You didn't leave a bad situation back home to get caught up in another one here. What happened to you, Los Angeles?\", 'wav': 'EN_B00000/EN_B00000_S00000/mp3/EN_B00000_S00000_W000000.mp3'}, 'mp3': {'path': 'EN_B00000_S00000_W000000.mp3', 'array': array([-0.0015661 , -0.00178264, -0.00098045, ..., -0.00193841,\n",
      "       -0.00217433, -0.00080763]), 'sampling_rate': 24000}, '__key__': 'EN_B00000_S00000_W000000', '__url__': 'hf://datasets/amphion/Emilia-Dataset@d7f2f7340a6385696f3766c8049fa920a4707c07/Emilia/EN/EN-B000000.tar'}\n"
     ]
    }
   ],
   "source": [
    "from datasets import load_dataset\n",
    "\n",
    "path = \"Emilia/EN/*.tar\" # Same for Emilia-YODAS; just replace \"Emilia/\" with \"Emilia-YODAS/\"\n",
    "dataset = load_dataset(\"amphion/Emilia-Dataset\", data_files={\"en\": path}, split=\"en\", streaming=True)\n",
    "print(dataset) # here should only shows 90 n_shards\n",
    "print(next(iter(dataset)))\n"
   ]
  }
 ],
 "metadata": {
  "kernelspec": {
   "display_name": ".venv",
   "language": "python",
   "name": "python3"
  },
  "language_info": {
   "codemirror_mode": {
    "name": "ipython",
    "version": 3
   },
   "file_extension": ".py",
   "mimetype": "text/x-python",
   "name": "python",
   "nbconvert_exporter": "python",
   "pygments_lexer": "ipython3",
   "version": "3.9.6"
  }
 },
 "nbformat": 4,
 "nbformat_minor": 2
}
