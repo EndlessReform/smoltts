{
 "cells": [
  {
   "cell_type": "code",
   "execution_count": 30,
   "metadata": {},
   "outputs": [],
   "source": [
    "from datasets import load_from_disk\n",
    "from transformers import AutoTokenizer\n",
    "\n",
    "ds = load_from_disk(\"../../datasets/tokenized_project_gutenberg_bytes_kokoro\")"
   ]
  },
  {
   "cell_type": "code",
   "execution_count": 31,
   "metadata": {},
   "outputs": [
    {
     "data": {
      "text/plain": [
       "{'speaker_id': 'sarah',\n",
       " 'tokens': tensor([[ 269,  256,   10,  ...,  801,  801,  270],\n",
       "         [   0,    0,    0,  ...,  481,  481,    0],\n",
       "         [   0,    0,    0,  ...,  243,  243,    0],\n",
       "         ...,\n",
       "         [   0,    0,    0,  ..., 1030, 1030,    0],\n",
       "         [   0,    0,    0,  ...,  976,  976,    0],\n",
       "         [   0,    0,    0,  ..., 2008, 2008,    0]]),\n",
       " 'labels': tensor([[ 256,   10,  272,  ...,  801,  270,   10],\n",
       "         [-100, -100, -100,  ...,  481, -100, -100],\n",
       "         [-100, -100, -100,  ...,  243, -100, -100],\n",
       "         ...,\n",
       "         [-100, -100, -100,  ..., 1030, -100, -100],\n",
       "         [-100, -100, -100,  ...,  976, -100, -100],\n",
       "         [-100, -100, -100,  ..., 2008, -100, -100]])}"
      ]
     },
     "execution_count": 31,
     "metadata": {},
     "output_type": "execute_result"
    }
   ],
   "source": [
    "tokenizer = AutoTokenizer.from_pretrained(\"../../inits/smoltts_byte_kokoro\")\n",
    "ds[\"train\"][40]"
   ]
  },
  {
   "cell_type": "code",
   "execution_count": 32,
   "metadata": {},
   "outputs": [
    {
     "data": {
      "text/plain": [
       "'<|im_start|>system\\n<|speaker:1|><|im_end|>\\n<|im_start|>user\\nOrders were given to Captain Burton to announce her arrival by firing a national salute, and each morning we listened for the guns from the fort.<|im_end|>\\n<|im_start|>assistant\\n<|semantic:1049|><|semantic:127|><|semantic:1880|><|semantic:1031|><|semantic:1031|><|semantic:1031|><|semantic:1492|><|semantic:1492|><|semantic:481|><|semantic:437|><|semantic:67|><|semantic:1655|><|semantic:212|><|semantic:73|><|semantic:1657|><|semantic:1622|><|semantic:903|><|semantic:1383|><|semantic:213|><|semantic:1143|><|semantic:28|><|semantic:1662|><|semantic:1899|><|semantic:1339|><|semantic:213|><|semantic:1385|><|semantic:531|><|semantic:616|><|semantic:793|><|semantic:1919|><|semantic:1680|><|semantic:1528|><|semantic:664|><|semantic:654|><|semantic:654|><|semantic:691|><|semantic:1341|><|semantic:343|><|semantic:611|><|semantic:1922|><|semantic:1922|><|semantic:505|><|semantic:1725|><|semantic:371|><|semantic:1457|><|semantic:1473|><|semantic:841|><|semantic:1695|><|semantic:1695|><|semantic:1721|><|semantic:1721|><|semantic:1192|><|semantic:75|><|semantic:1440|><|semantic:1932|><|semantic:1437|><|semantic:691|><|semantic:524|><|semantic:1899|><|semantic:1976|><|semantic:682|><|semantic:1823|><|semantic:1967|><|semantic:349|><|semantic:1003|><|semantic:1063|><|semantic:1108|><|semantic:1640|><|semantic:1928|><|semantic:1928|><|semantic:1814|><|semantic:148|><|semantic:657|><|semantic:657|><|semantic:337|><|semantic:2032|><|semantic:2032|><|semantic:1333|><|semantic:327|><|semantic:690|><|semantic:875|><|semantic:851|><|semantic:1772|><|semantic:1528|><|semantic:2042|><|semantic:541|><|semantic:1375|><|semantic:220|><|semantic:862|><|semantic:755|><|semantic:1985|><|semantic:1147|><|semantic:1143|><|semantic:1549|><|semantic:272|><|semantic:2045|><|semantic:160|><|semantic:772|><|semantic:2040|><|semantic:133|><|semantic:591|><|semantic:440|><|semantic:1047|><|semantic:1552|><|semantic:1525|><|semantic:299|><|semantic:731|><|semantic:1039|><|semantic:1640|><|semantic:769|><|semantic:666|><|semantic:84|><|semantic:84|><|semantic:752|><|semantic:752|><|semantic:481|><|semantic:481|><|im_end|>\\n<|im_start|>user\\nAfter some inquiries of his purser, the commodore promised to let him have the barrels with their salt, as fast as they were emptied by the crew.<|im_end|>\\n<|im_start|>assistant\\n<|semantic:1049|><|semantic:127|><|semantic:1880|><|semantic:1031|><|semantic:1031|><|semantic:1031|><|semantic:1492|><|semantic:1492|><|semantic:1826|><|semantic:1703|><|semantic:773|><|semantic:773|><|semantic:1858|><|semantic:55|><|semantic:1052|><|semantic:1781|><|semantic:1536|><|semantic:1536|><|semantic:1252|><|semantic:67|><|semantic:1141|><|semantic:1790|><|semantic:2014|><|semantic:1125|><|semantic:1125|><|semantic:313|><|semantic:1997|><|semantic:159|><|semantic:128|><|semantic:774|><|semantic:1677|><|semantic:518|><|semantic:769|><|semantic:666|><|semantic:84|><|semantic:1850|><|semantic:419|><|semantic:1697|><|semantic:623|><|semantic:635|><|semantic:2003|><|semantic:374|><|semantic:1184|><|semantic:1910|><|semantic:313|><|semantic:1370|><|semantic:1560|><|semantic:2003|><|semantic:112|><|semantic:1615|><|semantic:2026|><|semantic:1323|><|semantic:1026|><|semantic:1984|><|semantic:1235|><|semantic:177|><|semantic:813|><|semantic:376|><|semantic:597|><|semantic:1522|><|semantic:1166|><|semantic:321|><|semantic:1839|><|semantic:1005|><|semantic:822|><|semantic:622|><|semantic:628|><|semantic:1212|><|semantic:228|><|semantic:1858|><|semantic:1273|><|semantic:292|><|semantic:76|><|semantic:1718|><|semantic:579|><|semantic:1640|><|semantic:1814|><|semantic:1814|><|semantic:1515|><|semantic:657|><|semantic:1022|><|semantic:1037|><|semantic:1721|><|semantic:1768|><|semantic:1899|><|semantic:2027|><|semantic:798|><|semantic:1037|><|semantic:1251|><|semantic:1144|><|semantic:1144|><|semantic:1657|><|semantic:1781|><|semantic:1781|><|semantic:1465|><|semantic:268|><|semantic:1410|><|semantic:662|><|semantic:1695|><|semantic:1695|><|semantic:2045|><|semantic:1252|><|semantic:1480|><|semantic:1851|><|semantic:1164|><|semantic:1957|><|semantic:769|><|semantic:666|><|semantic:84|><|semantic:84|><|semantic:752|><|semantic:752|><|semantic:752|><|semantic:1850|><|semantic:481|><|im_end|>\\n<|im_start|>user\\nAfter closing our business at Marietta the colonel ordered us to transfer our operations to Bellefonte, Alabama.<|im_end|>\\n<|im_start|>assistant\\n<|semantic:1049|><|semantic:127|><|semantic:1880|><|semantic:1031|><|semantic:1031|><|semantic:1031|><|semantic:1492|><|semantic:1492|><|semantic:481|><|semantic:835|><|semantic:773|><|semantic:773|><|semantic:1124|><|semantic:1252|><|semantic:1344|><|semantic:304|><|semantic:1790|><|semantic:1932|><|semantic:513|><|semantic:155|><|semantic:606|><|semantic:1994|><|semantic:112|><|semantic:112|><|semantic:1534|><|semantic:1862|><|semantic:1730|><|semantic:1839|><|semantic:1460|><|semantic:1690|><|semantic:1776|><|semantic:1062|><|semantic:4|><|semantic:803|><|semantic:486|><|semantic:1968|><|semantic:1836|><|semantic:2045|><|semantic:1480|><|semantic:531|><|semantic:1005|><|semantic:1823|><|semantic:130|><|semantic:437|><|semantic:67|><|semantic:1373|><|semantic:1373|><|semantic:112|><|semantic:1615|><|semantic:912|><|semantic:284|><|semantic:646|><|semantic:194|><|semantic:29|><|semantic:591|><|semantic:698|><|semantic:531|><|semantic:1405|><|semantic:513|><|semantic:1992|><|semantic:1078|><|semantic:254|><|semantic:1295|><|semantic:501|><|semantic:594|><|semantic:1840|><|semantic:1172|><|semantic:2040|><|semantic:912|><|semantic:284|><|semantic:1166|><|semantic:184|><|semantic:1739|><|semantic:408|><|semantic:157|><|semantic:1663|><|semantic:579|><|semantic:857|><|semantic:541|><|semantic:384|><|semantic:1421|><|semantic:1484|><|semantic:1739|><|semantic:1166|><|semantic:776|><|semantic:264|><|semantic:1062|><|semantic:4|><|semantic:769|><|semantic:666|><|semantic:84|><|semantic:84|><|semantic:752|><|semantic:752|><|semantic:1850|><|semantic:481|><|semantic:481|><|im_end|>'"
      ]
     },
     "execution_count": 32,
     "metadata": {},
     "output_type": "execute_result"
    }
   ],
   "source": [
    "tokenizer.decode(ds[\"train\"][40][\"tokens\"][0,:])"
   ]
  },
  {
   "cell_type": "code",
   "execution_count": 34,
   "metadata": {},
   "outputs": [
    {
     "data": {
      "text/plain": [
       "torch.Size([9, 725])"
      ]
     },
     "execution_count": 34,
     "metadata": {},
     "output_type": "execute_result"
    }
   ],
   "source": [
    "ds[\"train\"][48][\"tokens\"].shape"
   ]
  }
 ],
 "metadata": {
  "kernelspec": {
   "display_name": ".venv",
   "language": "python",
   "name": "python3"
  },
  "language_info": {
   "codemirror_mode": {
    "name": "ipython",
    "version": 3
   },
   "file_extension": ".py",
   "mimetype": "text/x-python",
   "name": "python",
   "nbconvert_exporter": "python",
   "pygments_lexer": "ipython3",
   "version": "3.9.6"
  }
 },
 "nbformat": 4,
 "nbformat_minor": 2
}
