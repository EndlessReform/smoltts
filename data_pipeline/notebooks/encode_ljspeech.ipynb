{
 "cells": [
  {
   "cell_type": "code",
   "execution_count": null,
   "metadata": {},
   "outputs": [],
   "source": [
    "from datasets import load_dataset, Audio\n",
    "\n",
    "SAMPLING_RATE=24_000\n",
    "# Load the LJ Speech dataset\n",
    "dataset = load_dataset(\"MikhailT/lj-speech\")\n",
    "dataset = dataset.cast_column(\"audio\", Audio(sampling_rate=SAMPLING_RATE))\n",
    "dataset = dataset.with_format(\"torch\")\n",
    "len(dataset[\"full\"])"
   ]
  },
  {
   "cell_type": "code",
   "execution_count": null,
   "metadata": {},
   "outputs": [],
   "source": [
    "from data_pipeline.utils.codec import MimiCodec\n",
    "\n",
    "mimi_model = MimiCodec()"
   ]
  },
  {
   "cell_type": "code",
   "execution_count": null,
   "metadata": {},
   "outputs": [],
   "source": [
    "first_items = dataset[\"full\"][0:16]\n",
    "audios = [row[\"array\"] for row in first_items[\"audio\"]]\n",
    "wavs = mimi_model.encode_batch(audios)"
   ]
  },
  {
   "cell_type": "code",
   "execution_count": null,
   "metadata": {},
   "outputs": [],
   "source": [
    "[l.shape for l in wavs]"
   ]
  },
  {
   "cell_type": "code",
   "execution_count": null,
   "metadata": {},
   "outputs": [],
   "source": [
    "from IPython import display\n",
    "\n",
    "out_pcm = mimi_model.decode(wavs[15])\n",
    "\n",
    "# Convert to CPU and get numpy array for playback\n",
    "audio_data = out_pcm.numpy()\n",
    "\n",
    "# Create and display audio widget\n",
    "# Note: sample_rate=24000 matches your original save command\n",
    "display.display(display.Audio(audio_data, rate=24000, autoplay=False))"
   ]
  },
  {
   "cell_type": "code",
   "execution_count": null,
   "metadata": {},
   "outputs": [],
   "source": [
    "def batch_wav_encoder(batch):\n",
    "    audios = [audio[\"array\"] for audio in batch[\"audio\"]]\n",
    "    return {\n",
    "        \"codes\": mimi_model.encode_batch(audios)\n",
    "    }\n",
    "\n",
    "dataset = dataset.map(batch_wav_encoder, batched=True, batch_size=24, remove_columns=[\"audio\"])"
   ]
  },
  {
   "cell_type": "code",
   "execution_count": null,
   "metadata": {},
   "outputs": [],
   "source": [
    "dataset.column_names"
   ]
  },
  {
   "cell_type": "code",
   "execution_count": null,
   "metadata": {},
   "outputs": [],
   "source": [
    "dataset = dataset.rename_column(original_column_name=\"normalized_text\", new_column_name=\"text_normalized\")\n",
    "dataset.save_to_disk(\"../../datasets/encoded_ljspeech\")"
   ]
  }
 ],
 "metadata": {
  "kernelspec": {
   "display_name": ".venv",
   "language": "python",
   "name": "python3"
  },
  "language_info": {
   "codemirror_mode": {
    "name": "ipython",
    "version": 3
   },
   "file_extension": ".py",
   "mimetype": "text/x-python",
   "name": "python",
   "nbconvert_exporter": "python",
   "pygments_lexer": "ipython3",
   "version": "3.9.21"
  }
 },
 "nbformat": 4,
 "nbformat_minor": 4
}
