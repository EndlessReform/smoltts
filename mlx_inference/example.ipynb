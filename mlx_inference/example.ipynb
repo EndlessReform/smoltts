{
 "cells": [
  {
   "cell_type": "markdown",
   "metadata": {},
   "source": [
    "# SmolTTS"
   ]
  },
  {
   "cell_type": "code",
   "execution_count": null,
   "metadata": {},
   "outputs": [],
   "source": [
    "from smoltts_mlx import SmolTTS\n",
    "\n",
    "model = SmolTTS(checkpoint_dir=\"../inits/emilia/v1\")"
   ]
  },
  {
   "cell_type": "markdown",
   "metadata": {},
   "source": [
    "## Testing speaker conditioning"
   ]
  },
  {
   "cell_type": "code",
   "execution_count": null,
   "metadata": {},
   "outputs": [],
   "source": [
    "import numpy as np\n",
    "import soundfile as sf\n",
    "from scipy.signal import resample\n",
    "from IPython.display import Audio\n",
    "\n",
    "data, sample_rate = sf.read(\"tests/sky.wav\", dtype=\"float32\")\n",
    "new_sample_rate = 24_000\n",
    "\n",
    "# Compute new number of samples\n",
    "num_samples = int(len(data) * new_sample_rate / sample_rate)\n",
    "\n",
    "# Resample using FFT-based method\n",
    "resampled_data = resample(data, num_samples)\n",
    "\n",
    "print(f\"Original: {sample_rate} Hz, Resampled: {new_sample_rate} Hz, Shape: {resampled_data.shape}\")\n",
    "Audio(resampled_data, rate=24_000)"
   ]
  },
  {
   "cell_type": "code",
   "execution_count": null,
   "metadata": {},
   "outputs": [],
   "source": [
    "import mlx.core as mx\n",
    "\n",
    "input = model.codec.encode(mx.array(resampled_data[None, None, :]))\n",
    "output = model.codec.decode(input)\n",
    "Audio(output.flatten(), rate=model.sampling_rate)"
   ]
  },
  {
   "cell_type": "code",
   "execution_count": null,
   "metadata": {},
   "outputs": [],
   "source": [
    "prompt = \"When I heard the release demo, I was shocked, angered, and in disbelief that Mr. Altman would pursue a voice so eerily similar to mine that my closest friends and news outlets could not tell the difference.\"\n",
    "conditioning_prompt = model.create_speaker([{\"text\": prompt, \"audio\": resampled_data[mx.newaxis, mx.newaxis, :]}])\n",
    "pcm2 = model(\"Tourists flock to it like dung beetles drawn to a shimmering heap of industrial slag, mistaking rusted girders for romance. \", speaker=conditioning_prompt)\n",
    "Audio(pcm2, rate=model.sampling_rate)\n"
   ]
  },
  {
   "cell_type": "code",
   "execution_count": null,
   "metadata": {},
   "outputs": [],
   "source": [
    "from smoltts_mlx.lm.generate import generate_blocking, GenerationSettings\n",
    "\n",
    "text1 = mx.concat([\n",
    "    model.prompt_encoder.encode_text_turn(\"user\", \"Hello, this is a test\"),\n",
    "    model.prompt_encoder.encode_text_turn(\"assistant\")\n",
    "], axis=1)[mx.newaxis, :, :]\n",
    "out = generate_blocking(model.lm, text1, GenerationSettings(), audio_only=True)\n",
    "text2 = mx.concat()\n",
    "\n"
   ]
  },
  {
   "cell_type": "markdown",
   "metadata": {},
   "source": [
    "# self-conditioning"
   ]
  },
  {
   "cell_type": "code",
   "execution_count": null,
   "metadata": {},
   "outputs": [],
   "source": [
    "prompt_text = \"My name is Donald Trump, and I approve this message.\"\n",
    "test_pcm = model(prompt_text, voice=None, speaker=None)\n",
    "Audio(test_pcm, rate=model.sampling_rate)"
   ]
  },
  {
   "cell_type": "code",
   "execution_count": null,
   "metadata": {},
   "outputs": [],
   "source": [
    "clone_prompt = model.create_speaker([{\"text\": prompt_text, \"audio\": test_pcm[mx.newaxis, mx.newaxis, :]}])\n",
    "output = model(\" I look back now and insta anxiety and PTSD at your video.\", speaker=clone_prompt)\n",
    "Audio(output, rate=model.sampling_rate)"
   ]
  }
 ],
 "metadata": {
  "kernelspec": {
   "display_name": ".venv",
   "language": "python",
   "name": "python3"
  },
  "language_info": {
   "codemirror_mode": {
    "name": "ipython",
    "version": 3
   },
   "file_extension": ".py",
   "mimetype": "text/x-python",
   "name": "python",
   "nbconvert_exporter": "python",
   "pygments_lexer": "ipython3",
   "version": "3.9.6"
  }
 },
 "nbformat": 4,
 "nbformat_minor": 2
}
